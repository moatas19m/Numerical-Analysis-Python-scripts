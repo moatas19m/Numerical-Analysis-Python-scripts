{
 "cells": [
  {
   "cell_type": "code",
   "execution_count": 1,
   "id": "6bb7a5c1",
   "metadata": {},
   "outputs": [
    {
     "name": "stdout",
     "output_type": "stream",
     "text": [
      "This script evaluates the root of a function using the approximation technique known as Newton's method. Note: when inputting the function, use ** to show presence of exponent, followed by the number or variable in the power. Also, input capital E for euler's number instead of just e\n",
      "WARNING: when inputting function, do not use quotation marks, otherwise sympify is not able to parse the input string!\n",
      "for quick checking and to avoid errors, copy paste this= (E**x)+(2**(-x))+2*cos(x) - 6\n",
      "Enter the function: (E**x)+(2**(-x))+2*cos(x) - 6\n",
      "Enter error tolerance: 1e-50\n",
      "exp(x) + 2*cos(x) - 6 + 2**(-x)\n",
      "Enter initial approximation in interval [1, 2]1.4\n",
      "The approximated root is:  1.82938360193385\n",
      "                 Pn                    fPn\n",
      "n                                         \n",
      "0               1.4      -1.22593660572724\n",
      "1  2.07298258824142       1.22347649733059\n",
      "2  1.87010759826859      0.172823250619443\n",
      "3  1.83072488664852    0.00550746794843323\n",
      "4  1.82938510828636    6.17831231345753e-6\n",
      "5  1.82938360193575   7.80181306108605e-12\n",
      "6  1.82938360193385  -2.90073144825388e-16\n",
      "7  1.82938360193385  -2.90073144825388e-16\n"
     ]
    }
   ],
   "source": [
    "from sympy import *\n",
    "\n",
    "import pandas as pd\n",
    "\n",
    "print(\"This script evaluates the root of a function using the approximation technique known as Newton's method. Note: when inputting the function, use ** to show presence of exponent, followed by the number or variable in the power. Also, input capital E for euler's number instead of just e\")\n",
    "print(\"WARNING: when inputting function, do not use quotation marks, otherwise sympify is not able to parse the input string!\")\n",
    "x=symbols('x')\n",
    "print(\"for quick checking and to avoid errors, copy paste this= (E**x)+(2**(-x))+2*cos(x) - 6\")\n",
    "inputfunc = input(\"Enter the function: \")  \n",
    "tolerance = float(input(\"Enter error tolerance: \"))\n",
    "Pn=[]\n",
    "Fpn=[]\n",
    "converg=[]\n",
    "iterations=[]\n",
    "\n",
    "\n",
    "func = sympify(inputfunc)\n",
    "\n",
    "print(func)\n",
    "\n",
    "def calcfunc(a):\n",
    "    return func.evalf(subs={x:a})\n",
    "    \n",
    "\n",
    "def firstderv(a):\n",
    "    fdiff=diff(func, x)\n",
    "    df=fdiff.doit().subs({x:a})\n",
    "    d=N(df)\n",
    "    return d\n",
    "\n",
    "p0=float(input(\"Enter initial approximation in interval [1, 2]\"))\n",
    "\n",
    "if(firstderv(p0)==0):\n",
    "    print(\"Error, input another initial guess\")\n",
    "\n",
    "else:\n",
    "    i=1\n",
    "    Pn.append(p0)\n",
    "    Fpn.append(calcfunc(p0))\n",
    "    iterations.append(0)\n",
    "    pn=p0-(calcfunc(p0))/(firstderv(p0))\n",
    "    Pn.append(pn)\n",
    "    Fpn.append(calcfunc(pn))\n",
    "    iterations.append(i)\n",
    "    while((abs(pn-p0)/abs(pn))>=tolerance):\n",
    "        p0=pn\n",
    "        pn=p0-(calcfunc(p0))/(firstderv(p0))\n",
    "        Pn.append(pn)\n",
    "        Fpn.append(calcfunc(pn))\n",
    "        i=i+1\n",
    "        iterations.append(i)\n",
    "    print(\"The approximated root is: \", pn)\n",
    "    table = {'n':iterations, 'Pn':Pn,'fPn':Fpn} #didnt know how to take input directly from lists\n",
    "    df = pd.DataFrame(table)\n",
    "    df.set_index(\"n\", inplace=True) #copied from internet\n",
    "    print(df)\n",
    "\n",
    "df.to_csv(\"/home/moatasim/IBA_FALL'21/NUMERICAL ANALYSIS/Python scripts/NewtonData.txt\")"
   ]
  },
  {
   "cell_type": "code",
   "execution_count": null,
   "id": "4624e207",
   "metadata": {},
   "outputs": [],
   "source": []
  }
 ],
 "metadata": {
  "kernelspec": {
   "display_name": "Python 3",
   "language": "python",
   "name": "python3"
  },
  "language_info": {
   "codemirror_mode": {
    "name": "ipython",
    "version": 3
   },
   "file_extension": ".py",
   "mimetype": "text/x-python",
   "name": "python",
   "nbconvert_exporter": "python",
   "pygments_lexer": "ipython3",
   "version": "3.8.8"
  }
 },
 "nbformat": 4,
 "nbformat_minor": 5
}
